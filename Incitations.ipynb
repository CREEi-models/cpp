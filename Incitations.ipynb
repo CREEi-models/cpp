{
 "cells": [
  {
   "cell_type": "markdown",
   "metadata": {},
   "source": [
    "# Incitations RRQ"
   ]
  },
  {
   "cell_type": "markdown",
   "metadata": {},
   "source": [
    "Dans ce notebook, on calcule le gain marginal a reporter le début de la rente retraite du RRQ. Nous avons construit un calculateur des rentes (cpp), un outils pour obtenir des taux de survie historique et prospectifs. Quelques notes sur chacun des éléments:"
   ]
  },
  {
   "cell_type": "markdown",
   "metadata": {},
   "source": [
    "RRQ:\n",
    "- prise en compte de la rente retraite seulement et des pénalités actuarielles pour prestation anticipé et retardé. \n",
    "\n",
    "Survie:\n",
    "- taux historique venant de la Banque de donnée sur la longévité canadienne et taux prospectif par province de Statistiques Canada"
   ]
  },
  {
   "cell_type": "code",
   "execution_count": 1,
   "metadata": {},
   "outputs": [],
   "source": [
    "from calculators import cpp\n",
    "from calculators import life\n",
    "import numpy as np\n",
    "from matplotlib import pyplot as plt\n",
    "import pandas as pd"
   ]
  },
  {
   "cell_type": "markdown",
   "metadata": {},
   "source": [
    "On va chercher les taux de survie (nous supposerons un homme au Québec) :"
   ]
  },
  {
   "cell_type": "code",
   "execution_count": 2,
   "metadata": {},
   "outputs": [],
   "source": [
    "l = life.table()"
   ]
  },
  {
   "cell_type": "markdown",
   "metadata": {},
   "source": [
    "On va chercher les règles du RRQ"
   ]
  },
  {
   "cell_type": "code",
   "execution_count": 3,
   "metadata": {},
   "outputs": [],
   "source": [
    "qpp = cpp.rules(qpp=True)"
   ]
  },
  {
   "cell_type": "markdown",
   "metadata": {},
   "source": [
    "Le module cpp contient un routine permettant de calculer un cas juqu'au début des prestations. Nous allons rouler ce cas jusqu'à l'âge de 60 ans (il aura fait au moins des contributions jusqu'à l'âge de 59 ans). Nous le ferons dans un contexte simple au départ. L'individu est né en 1958 et à 59 ans en 2017, 60 ans en 2018. "
   ]
  },
  {
   "cell_type": "code",
   "execution_count": 4,
   "metadata": {},
   "outputs": [],
   "source": [
    "byr = 1958\n",
    "case = cpp.account(byr,rules=qpp)"
   ]
  },
  {
   "cell_type": "markdown",
   "metadata": {},
   "source": [
    "Allons chercher les probabilités de survie étant donné qu'il a 60 ans:"
   ]
  },
  {
   "cell_type": "code",
   "execution_count": 5,
   "metadata": {},
   "outputs": [
    {
     "data": {
      "image/png": "[encoded data removed]",
      "text/plain": [
       "<matplotlib.figure.Figure at 0x1118c6ef0>"
      ]
     },
     "metadata": {},
     "output_type": "display_data"
    }
   ],
   "source": [
    "sx = [l.sx(byr,60,a) for a in range(60,111)]\n",
    "ages = [i for i in range(60,111)]\n",
    "plt.figure()\n",
    "plt.plot(ages,sx)\n",
    "plt.xlabel('age')\n",
    "plt.ylabel('probabilite survie a age etant donne 60')\n",
    "plt.show()\n",
    "sx = dict(zip(ages,sx))"
   ]
  },
  {
   "cell_type": "markdown",
   "metadata": {},
   "source": [
    "Son esperance de vie residuelle (apres 60 ans) est "
   ]
  },
  {
   "cell_type": "code",
   "execution_count": 6,
   "metadata": {},
   "outputs": [
    {
     "name": "stdout",
     "output_type": "stream",
     "text": [
      "e60 =  24.928808875806567\n"
     ]
    }
   ],
   "source": [
    "print('e60 = ', l.ex(byr,60))"
   ]
  },
  {
   "cell_type": "markdown",
   "metadata": {},
   "source": [
    "On va maintenant rouler 10 cas pour chacun des ages possibles. A chaque fois on va suppose qu'il ne continue pas a travailler apres 60 ans et qu'il a toujours gagne le MGA:\n"
   ]
  },
  {
   "cell_type": "code",
   "execution_count": 7,
   "metadata": {},
   "outputs": [
    {
     "name": "stdout",
     "output_type": "stream",
     "text": [
      "{60: 745.3333333333333, 61: 810.9873657407405, 62: 879.381885855856, 63: 951.902619410965, 64: 1029.8543663442222, 65: 1114.473326940932, 66: 1213.982203898624, 67: 1315.217781886009, 68: 1418.3297666051035, 69: 1523.46454191272}\n"
     ]
    }
   ],
   "source": [
    "benefits = []\n",
    "claimages = [i for i in range(60,70)]\n",
    "for a in range(60,70):\n",
    "    case.RunCase(claimage=a,retage=60,ratio=1.0)\n",
    "    benefits.append(case.benefit)\n",
    "    case.ResetCase() \n",
    "brrq = dict(zip(claimages,benefits))\n",
    "print(brrq)\n"
   ]
  },
  {
   "cell_type": "code",
   "execution_count": 8,
   "metadata": {},
   "outputs": [
    {
     "data": {
      "text/plain": [
       "1.0"
      ]
     },
     "execution_count": 8,
     "metadata": {},
     "output_type": "execute_result"
    }
   ],
   "source": [
    "sx[60]"
   ]
  },
  {
   "cell_type": "code",
   "execution_count": 9,
   "metadata": {},
   "outputs": [],
   "source": [
    "npv = []\n",
    "rate = 0.03\n",
    "for a in claimages:\n",
    "    npv.append(np.sum([np.exp(-rate*(aa-60))*brrq[a]*12*sx[aa] for aa in range(a,111)]))\n",
    "npv = dict(zip(claimages,npv))"
   ]
  },
  {
   "cell_type": "code",
   "execution_count": 10,
   "metadata": {},
   "outputs": [
    {
     "name": "stdout",
     "output_type": "stream",
     "text": [
      "60 153584.0\n",
      "61 157381.0\n",
      "62 160484.0\n",
      "63 163114.0\n",
      "64 165427.0\n",
      "65 167520.0\n",
      "66 170433.0\n",
      "67 172109.0\n",
      "68 172621.0\n",
      "69 172042.0\n"
     ]
    },
    {
     "data": {
      "text/plain": [
       "[None, None, None, None, None, None, None, None, None, None]"
      ]
     },
     "execution_count": 10,
     "metadata": {},
     "output_type": "execute_result"
    }
   ],
   "source": [
    "[print(a,np.round(npv[a],0)) for a in claimages]"
   ]
  },
  {
   "cell_type": "markdown",
   "metadata": {},
   "source": [
    "Le gain a reporter en dollars (en valeur d'option) est donne par:"
   ]
  },
  {
   "cell_type": "code",
   "execution_count": 11,
   "metadata": {},
   "outputs": [
    {
     "name": "stdout",
     "output_type": "stream",
     "text": [
      "60 19037.0\n",
      "61 15240.0\n",
      "62 12138.0\n",
      "63 9507.0\n",
      "64 7194.0\n",
      "65 5102.0\n",
      "66 2188.0\n",
      "67 513.0\n",
      "68 -579.0\n"
     ]
    },
    {
     "data": {
      "text/plain": [
       "[None, None, None, None, None, None, None, None, None]"
      ]
     },
     "execution_count": 11,
     "metadata": {},
     "output_type": "execute_result"
    }
   ],
   "source": [
    "acc = []\n",
    "for a in range(60,69):\n",
    "    maxnpv = np.max([npv[x] for x in range(a+1,70)])\n",
    "    acc.append(maxnpv - npv[a])\n",
    "acc = dict(zip(claimages[:-1],acc))\n",
    "[print(a,np.round(acc[a],0)) for a in claimages[:-1]]\n"
   ]
  },
  {
   "cell_type": "code",
   "execution_count": 12,
   "metadata": {},
   "outputs": [
    {
     "data": {
      "image/png": "[encoded data removed]",
      "text/plain": [
       "<matplotlib.figure.Figure at 0x1113716a0>"
      ]
     },
     "metadata": {},
     "output_type": "display_data"
    }
   ],
   "source": [
    "plt.figure()\n",
    "plt.bar(claimages[:-1],[acc[a] for a in claimages[:-1]])\n",
    "plt.xlabel('age quand debute prestations')\n",
    "plt.ylabel('gain a reporter a un age futur')\n",
    "plt.axhline(y=0, color='r', linestyle='-')\n",
    "plt.show()"
   ]
  },
  {
   "cell_type": "code",
   "execution_count": null,
   "metadata": {},
   "outputs": [],
   "source": []
  }
 ],
 "metadata": {
  "kernelspec": {
   "display_name": "Python 3",
   "language": "python",
   "name": "python3"
  },
  "language_info": {
   "codemirror_mode": {
    "name": "ipython",
    "version": 3
   },
   "file_extension": ".py",
   "mimetype": "text/x-python",
   "name": "python",
   "nbconvert_exporter": "python",
   "pygments_lexer": "ipython3",
   "version": "3.6.4"
  }
 },
 "nbformat": 4,
 "nbformat_minor": 2
}
