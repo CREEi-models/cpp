{
 "cells": [
  {
   "cell_type": "code",
   "execution_count": 217,
   "metadata": {
    "ExecuteTime": {
     "end_time": "2019-08-14T15:54:52.146221Z",
     "start_time": "2019-08-14T15:54:52.140757Z"
    }
   },
   "outputs": [],
   "source": [
    "import numpy as np\n",
    "def SetHistoty(retage=60, **kwargs):\n",
    "    nyears = retage - 18\n",
    "    ratio_list = [1]*nyears\n",
    "    nargs = len(kwargs)\n",
    "    niter=0\n",
    "    for key,val in kwargs.items():\n",
    "        temp_list= [x for x in val.values()]\n",
    "        for i in np.arange(niter,niter+temp_list[1]):\n",
    "            ratio_list[i] = temp_list[0]\n",
    "            niter += 1\n",
    "    return"
   ]
  },
  {
   "cell_type": "code",
   "execution_count": 218,
   "metadata": {
    "ExecuteTime": {
     "end_time": "2019-08-14T15:54:53.289172Z",
     "start_time": "2019-08-14T15:54:53.285103Z"
    }
   },
   "outputs": [
    {
     "name": "stdout",
     "output_type": "stream",
     "text": [
      "2\n",
      "[0.5, 5]\n",
      "[0.4, 4]\n"
     ]
    }
   ],
   "source": [
    "his = SetHistoty(a={\"r\":.5,'n':5}, b={\"r\":.4,'n':4})"
   ]
  },
  {
   "cell_type": "code",
   "execution_count": 215,
   "metadata": {
    "ExecuteTime": {
     "end_time": "2019-08-14T15:54:32.513864Z",
     "start_time": "2019-08-14T15:54:32.510037Z"
    }
   },
   "outputs": [
    {
     "name": "stdout",
     "output_type": "stream",
     "text": [
      "0\n",
      "[1, 1, 1, 1, 1, 1, 1, 1, 1, 1, 1, 1, 1, 1, 1, 1, 1, 1, 1, 1, 1, 1, 1, 1, 1, 1, 1, 1, 1, 1, 1, 1, 1, 1, 1, 1, 1, 1, 1, 1, 1, 1]\n"
     ]
    }
   ],
   "source": [
    "his2 = SetHistoty()"
   ]
  },
  {
   "cell_type": "code",
   "execution_count": 112,
   "metadata": {
    "ExecuteTime": {
     "end_time": "2019-08-14T15:07:40.060880Z",
     "start_time": "2019-08-14T15:07:40.058193Z"
    }
   },
   "outputs": [],
   "source": [
    "list =[1,1,1,1,1,1]"
   ]
  },
  {
   "cell_type": "code",
   "execution_count": 113,
   "metadata": {
    "ExecuteTime": {
     "end_time": "2019-08-14T15:07:46.714440Z",
     "start_time": "2019-08-14T15:07:46.706098Z"
    }
   },
   "outputs": [
    {
     "data": {
      "text/plain": [
       "[1, 1, 1, 1, 1, 1]"
      ]
     },
     "execution_count": 113,
     "metadata": {},
     "output_type": "execute_result"
    }
   ],
   "source": [
    "list"
   ]
  },
  {
   "cell_type": "code",
   "execution_count": 114,
   "metadata": {
    "ExecuteTime": {
     "end_time": "2019-08-14T15:07:52.934403Z",
     "start_time": "2019-08-14T15:07:52.930879Z"
    }
   },
   "outputs": [
    {
     "data": {
      "text/plain": [
       "1"
      ]
     },
     "execution_count": 114,
     "metadata": {},
     "output_type": "execute_result"
    }
   ],
   "source": [
    "list[0]"
   ]
  },
  {
   "cell_type": "code",
   "execution_count": 121,
   "metadata": {
    "ExecuteTime": {
     "end_time": "2019-08-14T15:11:12.000018Z",
     "start_time": "2019-08-14T15:11:11.992806Z"
    }
   },
   "outputs": [
    {
     "ename": "TypeError",
     "evalue": "can only assign an iterable",
     "output_type": "error",
     "traceback": [
      "\u001b[0;31m---------------------------------------------------------------------------\u001b[0m",
      "\u001b[0;31mTypeError\u001b[0m                                 Traceback (most recent call last)",
      "\u001b[0;32m<ipython-input-121-a3f9e15011c6>\u001b[0m in \u001b[0;36m<module>\u001b[0;34m\u001b[0m\n\u001b[0;32m----> 1\u001b[0;31m \u001b[0mlist\u001b[0m\u001b[0;34m[\u001b[0m\u001b[0;36m0\u001b[0m\u001b[0;34m:\u001b[0m\u001b[0;36m2\u001b[0m\u001b[0;34m]\u001b[0m \u001b[0;34m=\u001b[0m \u001b[0;36m3\u001b[0m\u001b[0;34m\u001b[0m\u001b[0;34m\u001b[0m\u001b[0m\n\u001b[0m",
      "\u001b[0;31mTypeError\u001b[0m: can only assign an iterable"
     ]
    }
   ],
   "source": [
    "list[0:2] = 3"
   ]
  },
  {
   "cell_type": "code",
   "execution_count": 166,
   "metadata": {
    "ExecuteTime": {
     "end_time": "2019-08-14T15:29:29.756797Z",
     "start_time": "2019-08-14T15:29:29.752761Z"
    }
   },
   "outputs": [
    {
     "data": {
      "text/plain": [
       "{'r': 0.5, 'n': 5}"
      ]
     },
     "execution_count": 166,
     "metadata": {},
     "output_type": "execute_result"
    }
   ],
   "source": [
    "a={\"r\":.5,'n':5}\n",
    "a"
   ]
  },
  {
   "cell_type": "code",
   "execution_count": 175,
   "metadata": {
    "ExecuteTime": {
     "end_time": "2019-08-14T15:32:28.330445Z",
     "start_time": "2019-08-14T15:32:28.326796Z"
    }
   },
   "outputs": [
    {
     "data": {
      "text/plain": [
       "dict_values([0.5, 5])"
      ]
     },
     "execution_count": 175,
     "metadata": {},
     "output_type": "execute_result"
    }
   ],
   "source": [
    "a.values()"
   ]
  },
  {
   "cell_type": "code",
   "execution_count": 177,
   "metadata": {
    "ExecuteTime": {
     "end_time": "2019-08-14T15:34:36.817925Z",
     "start_time": "2019-08-14T15:34:36.813658Z"
    }
   },
   "outputs": [
    {
     "data": {
      "text/plain": [
       "[0.5, 5]"
      ]
     },
     "execution_count": 177,
     "metadata": {},
     "output_type": "execute_result"
    }
   ],
   "source": [
    "new_list= [x for x in a.values()]\n",
    "new_list"
   ]
  },
  {
   "cell_type": "code",
   "execution_count": null,
   "metadata": {},
   "outputs": [],
   "source": []
  }
 ],
 "metadata": {
  "kernelspec": {
   "display_name": "Python 3",
   "language": "python",
   "name": "python3"
  },
  "language_info": {
   "codemirror_mode": {
    "name": "ipython",
    "version": 3
   },
   "file_extension": ".py",
   "mimetype": "text/x-python",
   "name": "python",
   "nbconvert_exporter": "python",
   "pygments_lexer": "ipython3",
   "version": "3.6.8"
  }
 },
 "nbformat": 4,
 "nbformat_minor": 2
}
