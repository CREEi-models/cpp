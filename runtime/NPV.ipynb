{
 "cells": [
  {
   "cell_type": "markdown",
   "metadata": {},
   "source": [
    "# Calling CPP Fortran Module from Python"
   ]
  },
  {
   "cell_type": "markdown",
   "metadata": {},
   "source": [
    "The objective of this notebook is to show how to use Python to interact with the CPP module (in Fortran). This could serve as a basis for doing something similar with other models. \n",
    "\n",
    "\n",
    "We use f2py to pre-compile our fortran cpp module (available at https://github.com/CEDIA-models/cpp). We can then use the module (all its functions and global variables) interactively from Python. Here is an example. "
   ]
  },
  {
   "cell_type": "code",
   "execution_count": 1,
   "metadata": {},
   "outputs": [],
   "source": [
    "from cpp import cpp"
   ]
  },
  {
   "cell_type": "markdown",
   "metadata": {},
   "source": [
    "Now load the parameters from cpp"
   ]
  },
  {
   "cell_type": "code",
   "execution_count": null,
   "metadata": {},
   "outputs": [],
   "source": [
    "cpp.loadcpp();"
   ]
  },
  {
   "cell_type": "markdown",
   "metadata": {},
   "source": [
    "Now let's create an individual age 60 who is considering retiring. We need to input the birth year and age at which benefits are claimed. The year for now is simply birth year plus age but in future will allow for adjustments to benefits. "
   ]
  },
  {
   "cell_type": "code",
   "execution_count": null,
   "metadata": {},
   "outputs": [],
   "source": [
    "import numpy as np\n",
    "byear = 1958;\n",
    "year = 2018;\n",
    "age = 60;"
   ]
  },
  {
   "cell_type": "markdown",
   "metadata": {},
   "source": [
    "Now setup his earnings history. The regime is in place since 1966. Let's assume this retiree has contributed the maximum in each year between 1976 and 2018 (1976 is the year he turned 18). The YMPE is the yearly maximum pensionable earnings for CPP. It is indexed every year to reflect growth in wages and prices (inflation). The function setearn allows to obtain the years in which the individual theoretically could have started to contribute (either at age 18 or 1966) and the maximum age at which he could contribute (either his current age or if larger the late retirement age of 70). In future applications, one can fill years to zero when the individual has not worked in a given year. "
   ]
  },
  {
   "cell_type": "code",
   "execution_count": null,
   "metadata": {},
   "outputs": [],
   "source": [
    "dim = cpp.setearn(byear,age);\n",
    "earn = cpp.ympe[np.logical_and(cpp.years>=dim[0], cpp.years<=dim[1])];\n",
    "earn\n",
    "\n"
   ]
  },
  {
   "cell_type": "markdown",
   "metadata": {},
   "source": [
    "The average monthly pensionable earnings or AMPE is the basis for computing CPP benefits. Several steps are involved. \n",
    "\n",
    "* Compute the unadjusted pensionable earnings (UPE) for each year (capped at YMPE and zero if below base amount). \n",
    "* Express UPE as fraction of YMPE for each year. Call this APE.\n",
    "* In the year claiming occurs, compute the average YMPE for the last 5 years (including current year). Multiply each APE by this average YMPE. \n",
    "* Sum those and divide by number of years to get a temporary APE (there is a disability and 2 child reading dropout provision)\n",
    "* There is a general dropout provision that 15% of months can be dropped (rounded up). Rest of canada has increased this in recent years.  \n",
    "* Once all dropouts rights have been computed, The years dropped out are those with the lowest APE.  \n",
    "* There is also an additional provision for those with earnings past age 65: they can increased their dropout 1/1 for each year if their UPE/YMPE for that year is larger than their AMPE. \n",
    "\n",
    "\n",
    "We then call the ampe function from cpp to compute his ampe (in Quebec)"
   ]
  },
  {
   "cell_type": "code",
   "execution_count": null,
   "metadata": {},
   "outputs": [],
   "source": [
    "ampe = cpp.ampe(byear,year,age,earn,True);\n",
    "ampe\n"
   ]
  },
  {
   "cell_type": "markdown",
   "metadata": {},
   "source": [
    "If from other province, we can see that AMPE would be slightly higher because higher exclusion: "
   ]
  },
  {
   "cell_type": "code",
   "execution_count": null,
   "metadata": {},
   "outputs": [],
   "source": [
    "ampe_cpp = cpp.ampe(byear,year,age,earn,False);\n",
    "[ampe,ampe_cpp, ampe_cpp/ampe]"
   ]
  },
  {
   "cell_type": "markdown",
   "metadata": {},
   "source": [
    "Now with the ampe, we can compute the benefit he would obtain if he claimed at age 60"
   ]
  },
  {
   "cell_type": "code",
   "execution_count": null,
   "metadata": {},
   "outputs": [],
   "source": [
    "ben = cpp.ben(ampe,age,byear)\n",
    "ben\n"
   ]
  },
  {
   "cell_type": "markdown",
   "metadata": {},
   "source": [
    "The number found at https://www.rrq.gouv.qc.ca/fr/programmes/regime_rentes/rente_retraite/Pages/montant_rr.aspx is 725.87$.  \n",
    "\n",
    "We can also investigate what happens if he was to claim at a different age, assuming he does not work and therefore does not contribute more: "
   ]
  },
  {
   "cell_type": "code",
   "execution_count": null,
   "metadata": {},
   "outputs": [],
   "source": [
    "benp = np.zeros((10,1));\n",
    "ages = [60, 61, 62, 63, 64, 65, 66, 67 , 68, 69];\n",
    "i = 0\n",
    "for a in ages:\n",
    "    benp[i] = cpp.ben(ampe,a,byear);\n",
    "    i +=1\n",
    "benp/benp[5]"
   ]
  },
  {
   "cell_type": "markdown",
   "metadata": {},
   "source": [
    "We express above benefits as a ratio of the benefit at the normal claiming age (65). We get exactly the same numbers as those in the link above (RRQ). "
   ]
  },
  {
   "cell_type": "markdown",
   "metadata": {},
   "source": [
    "Finally, we can decide to lower the delayed retirement credit (after age 65) to check what happens. We need to modify the drc (here we change it for all cohorts)"
   ]
  },
  {
   "cell_type": "code",
   "execution_count": null,
   "metadata": {},
   "outputs": [],
   "source": [
    "cpp.drc[:] = cpp.drc[:]*0.5;"
   ]
  },
  {
   "cell_type": "code",
   "execution_count": null,
   "metadata": {},
   "outputs": [],
   "source": [
    "benm = np.zeros((10,1));\n",
    "i = 0\n",
    "for a in ages:\n",
    "    benm[i] = cpp.ben(ampe,a,byear);\n",
    "    i +=1\n",
    "benm/benm[5]"
   ]
  },
  {
   "cell_type": "markdown",
   "metadata": {},
   "source": [
    "We can finally plot those. "
   ]
  },
  {
   "cell_type": "code",
   "execution_count": null,
   "metadata": {},
   "outputs": [],
   "source": [
    "%matplotlib inline\n",
    "from matplotlib import pyplot as plt\n",
    "fig, ax = plt.subplots()\n",
    "ax.plot(ages,benp)\n",
    "ax.plot(ages,benm)\n",
    "ax.set(xlabel='claiming age',ylabel='monthly benefit',title='Illustration of Changing the DRC',xticks=ages)\n",
    "ax.legend(['baseline','lower DRC'])\n",
    "ax.grid()\n",
    "plt.show()"
   ]
  },
  {
   "cell_type": "markdown",
   "metadata": {},
   "source": [
    "We can look at how the benefit formula changed across cohorts. To do that, "
   ]
  },
  {
   "cell_type": "code",
   "execution_count": null,
   "metadata": {},
   "outputs": [],
   "source": [
    "cpp.loadcpp();\n",
    "ben = np.zeros((len(ages),3));\n",
    "i = 0\n",
    "for b in [1938,1948,1958]:\n",
    "    dim = cpp.setearn(b,60);\n",
    "    earn = cpp.ympe[np.logical_and(cpp.years>=dim[0], cpp.years<=dim[1])];\n",
    "    avgearn = np.mean(earn[-5:]);\n",
    "    j = 0\n",
    "    for a in ages:\n",
    "        ampe = cpp.ampe(b,b+a,a,earn,True);\n",
    "        ben[j,i] = cpp.ben(ampe,a,b);\n",
    "        j+=1\n",
    "    i+=1    \n",
    "\n",
    "ben    \n",
    "        "
   ]
  },
  {
   "cell_type": "markdown",
   "metadata": {},
   "source": [
    "Let's now play a bit with contributions. We will take our worker and run him trough the contributions calculator. \n",
    "We have a function called tax which allows to compute worker contributions to CPP. "
   ]
  },
  {
   "cell_type": "code",
   "execution_count": null,
   "metadata": {},
   "outputs": [],
   "source": [
    "cpp.loadcpp()\n",
    "selfearn = earn;\n",
    "selfearn = np.zeros((len(earn),1));\n",
    "contrib = np.zeros((len(earn),1));\n",
    "yr = dim[0];\n",
    "age = 18;\n",
    "for i in range(0,len(earn)):\n",
    "    contrib[i] = cpp.tax(yr,earn[i],selfearn[i],age,True,True);\n",
    "    yr+=1;\n",
    "    age+=1;\n",
    "contrib"
   ]
  },
  {
   "cell_type": "code",
   "execution_count": null,
   "metadata": {},
   "outputs": [],
   "source": [
    "[i,yr,age,dim[0]]"
   ]
  },
  {
   "cell_type": "code",
   "execution_count": null,
   "metadata": {},
   "outputs": [],
   "source": []
  },
  {
   "cell_type": "code",
   "execution_count": null,
   "metadata": {},
   "outputs": [],
   "source": []
  }
 ],
 "metadata": {
  "kernelspec": {
   "display_name": "Python 3",
   "language": "python",
   "name": "python3"
  },
  "language_info": {
   "codemirror_mode": {
    "name": "ipython",
    "version": 3
   },
   "file_extension": ".py",
   "mimetype": "text/x-python",
   "name": "python",
   "nbconvert_exporter": "python",
   "pygments_lexer": "ipython3",
   "version": "3.6.4"
  }
 },
 "nbformat": 4,
 "nbformat_minor": 2
}
