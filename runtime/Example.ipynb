{
 "cells": [
  {
   "cell_type": "markdown",
   "metadata": {},
   "source": [
    "# Calling CPP Fortran Module from Python"
   ]
  },
  {
   "cell_type": "markdown",
   "metadata": {},
   "source": [
    "We use f2py to pre-compile our fortran cpp module (available at https://github.com/CEDIA-models/cpp). We can then use the module (all its functions and global variables) interactively from Python. Here is an example. "
   ]
  },
  {
   "cell_type": "code",
   "execution_count": 35,
   "metadata": {},
   "outputs": [],
   "source": [
    "from cpp import cpp"
   ]
  },
  {
   "cell_type": "markdown",
   "metadata": {},
   "source": [
    "Now load the parameters from cpp"
   ]
  },
  {
   "cell_type": "code",
   "execution_count": 36,
   "metadata": {},
   "outputs": [],
   "source": [
    "cpp.loadcpp();"
   ]
  },
  {
   "cell_type": "markdown",
   "metadata": {},
   "source": [
    "Now let's create an individual age 60 who is considering retiring. "
   ]
  },
  {
   "cell_type": "code",
   "execution_count": 37,
   "metadata": {},
   "outputs": [],
   "source": [
    "import numpy as np\n",
    "byear = 1958;\n",
    "year = 2018;\n",
    "age = 60;"
   ]
  },
  {
   "cell_type": "markdown",
   "metadata": {},
   "source": [
    "Now let's setup is earnings history. The regime is in place since 1966. Let's assume this retiree has contributed the maximum in each year between 1968 and 2010 (1968 is the year he turned 18). "
   ]
  },
  {
   "cell_type": "code",
   "execution_count": 38,
   "metadata": {},
   "outputs": [
    {
     "data": {
      "text/plain": [
       "array([ 9300.  , 10400.  , 11700.  , 13100.  , 14700.  , 16500.  ,\n",
       "       18500.  , 20800.  , 23400.  , 25800.  , 25900.  , 26500.  ,\n",
       "       27700.  , 28900.  , 30500.  , 32200.  , 33400.  , 34400.  ,\n",
       "       34900.  , 35400.  , 35800.  , 36900.  , 37400.  , 37600.  ,\n",
       "       38300.  , 39100.  , 39900.  , 40500.  , 41100.  , 42100.  ,\n",
       "       43700.  , 44900.  , 46300.  , 47200.  , 48300.  , 50100.  ,\n",
       "       51100.  , 52500.  , 53600.  , 54136.  , 54677.36, 55224.13])"
      ]
     },
     "execution_count": 38,
     "metadata": {},
     "output_type": "execute_result"
    }
   ],
   "source": [
    "beg = byear+18-1966+1;\n",
    "end = 2018-1966+1;\n",
    "\n",
    "earn = cpp.ympe[beg:end];\n",
    "earn\n"
   ]
  },
  {
   "cell_type": "markdown",
   "metadata": {},
   "source": [
    "We then call the ape function from cpp to compute his ape"
   ]
  },
  {
   "cell_type": "code",
   "execution_count": 39,
   "metadata": {},
   "outputs": [
    {
     "data": {
      "text/plain": [
       "63503.84730751705"
      ]
     },
     "execution_count": 39,
     "metadata": {},
     "output_type": "execute_result"
    }
   ],
   "source": [
    "ape = cpp.aape(byear,year,age,earn,True);\n",
    "ape"
   ]
  },
  {
   "cell_type": "markdown",
   "metadata": {},
   "source": [
    "Now with the ape, we can compute the benefit he would obtain if he claimed at age 60"
   ]
  },
  {
   "cell_type": "code",
   "execution_count": 40,
   "metadata": {},
   "outputs": [
    {
     "data": {
      "text/plain": [
       "846.7179641002273"
      ]
     },
     "execution_count": 40,
     "metadata": {},
     "output_type": "execute_result"
    }
   ],
   "source": [
    "ben = cpp.ben(ape,age,byear)/12\n",
    "ben\n"
   ]
  },
  {
   "cell_type": "markdown",
   "metadata": {},
   "source": [
    "The number found at https://www.rrq.gouv.qc.ca/fr/programmes/regime_rentes/rente_retraite/Pages/montant_rr.aspx is 725.87$ which is very close. We can also investigate what happens if he was to claim at a different age, assuming he does not work and therefore does not contribute more: "
   ]
  },
  {
   "cell_type": "code",
   "execution_count": 41,
   "metadata": {},
   "outputs": [
    {
     "data": {
      "text/plain": [
       "array([[0.64 ],\n",
       "       [0.712],\n",
       "       [0.784],\n",
       "       [0.856],\n",
       "       [0.928],\n",
       "       [1.   ],\n",
       "       [1.084],\n",
       "       [1.168],\n",
       "       [1.252],\n",
       "       [1.336]])"
      ]
     },
     "execution_count": 41,
     "metadata": {},
     "output_type": "execute_result"
    }
   ],
   "source": [
    "benp = np.zeros((10,1));\n",
    "ages = [60, 61, 62, 63, 64, 65, 66, 67 , 68, 69];\n",
    "i = 0\n",
    "for a in ages:\n",
    "    benp[i] = cpp.ben(ape,a,byear)/12;\n",
    "    i +=1\n",
    "benp/benp[5]"
   ]
  },
  {
   "cell_type": "markdown",
   "metadata": {},
   "source": [
    "We get slightly different numbers from the early claiming, but are spot on for late claiming (in terms of adjustment). To be investigated. "
   ]
  },
  {
   "cell_type": "markdown",
   "metadata": {},
   "source": [
    "Finally, we can decide to increate the delayed retirement credit (after age 65) to check what happens. We need to modify the drc (here we change it for all cohorts)"
   ]
  },
  {
   "cell_type": "code",
   "execution_count": 42,
   "metadata": {},
   "outputs": [],
   "source": [
    "cpp.drc[:] = cpp.drc[:]*0.5;"
   ]
  },
  {
   "cell_type": "code",
   "execution_count": 43,
   "metadata": {},
   "outputs": [
    {
     "data": {
      "text/plain": [
       "array([[0.64 ],\n",
       "       [0.712],\n",
       "       [0.784],\n",
       "       [0.856],\n",
       "       [0.928],\n",
       "       [1.   ],\n",
       "       [1.042],\n",
       "       [1.084],\n",
       "       [1.126],\n",
       "       [1.168]])"
      ]
     },
     "execution_count": 43,
     "metadata": {},
     "output_type": "execute_result"
    }
   ],
   "source": [
    "benm = np.zeros((10,1));\n",
    "i = 0\n",
    "for a in ages:\n",
    "    benm[i] = cpp.ben(ape,a,byear)/12;\n",
    "    i +=1\n",
    "benm/benm[5]"
   ]
  },
  {
   "cell_type": "markdown",
   "metadata": {},
   "source": [
    "We can finally plot those. "
   ]
  },
  {
   "cell_type": "code",
   "execution_count": 44,
   "metadata": {},
   "outputs": [
    {
     "data": {
      "image/png": "[encoded data removed]",
      "text/plain": [
       "<matplotlib.figure.Figure at 0x110396cf8>"
      ]
     },
     "metadata": {},
     "output_type": "display_data"
    }
   ],
   "source": [
    "%matplotlib inline\n",
    "from matplotlib import pyplot as plt\n",
    "fig, ax = plt.subplots()\n",
    "ax.plot(ages,benp)\n",
    "ax.plot(ages,benm)\n",
    "ax.set(xlabel='claiming age',ylabel='monthly benefit',title='Illustration of Changing the DRC',xticks=ages)\n",
    "ax.legend(['baseline','lower DRC'])\n",
    "ax.grid()\n",
    "plt.show()"
   ]
  },
  {
   "cell_type": "code",
   "execution_count": null,
   "metadata": {},
   "outputs": [],
   "source": []
  }
 ],
 "metadata": {
  "kernelspec": {
   "display_name": "Python 3",
   "language": "python",
   "name": "python3"
  },
  "language_info": {
   "codemirror_mode": {
    "name": "ipython",
    "version": 3
   },
   "file_extension": ".py",
   "mimetype": "text/x-python",
   "name": "python",
   "nbconvert_exporter": "python",
   "pygments_lexer": "ipython3",
   "version": "3.6.4"
  }
 },
 "nbformat": 4,
 "nbformat_minor": 2
}
