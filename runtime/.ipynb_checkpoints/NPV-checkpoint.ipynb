{
 "cells": [
  {
   "cell_type": "markdown",
   "metadata": {},
   "source": [
    "# Calling CPP Fortran Module from Python"
   ]
  },
  {
   "cell_type": "markdown",
   "metadata": {},
   "source": [
    "The objective of this notebook is to show how to use Python to interact with the CPP module (in Fortran). This could serve as a basis for doing something similar with other models. \n",
    "\n",
    "\n",
    "We use f2py to pre-compile our fortran cpp module (available at https://github.com/CEDIA-models/cpp). We can then use the module (all its functions and global variables) interactively from Python. Here is an example. "
   ]
  },
  {
   "cell_type": "code",
   "execution_count": 1,
   "metadata": {},
   "outputs": [],
   "source": [
    "from cpp import cpp"
   ]
  },
  {
   "cell_type": "markdown",
   "metadata": {},
   "source": [
    "Now load the parameters from cpp"
   ]
  },
  {
   "cell_type": "code",
   "execution_count": 2,
   "metadata": {},
   "outputs": [],
   "source": [
    "cpp.loadcpp();"
   ]
  },
  {
   "cell_type": "markdown",
   "metadata": {},
   "source": [
    "Now let's create an individual age 60 who is considering retiring. We need to input the birth year and age at which benefits are claimed. The year for now is simply birth year plus age but in future will allow for adjustments to benefits. "
   ]
  },
  {
   "cell_type": "code",
   "execution_count": 3,
   "metadata": {},
   "outputs": [],
   "source": [
    "import numpy as np\n",
    "byear = 1958;\n",
    "year = 2018;\n",
    "age = 60;"
   ]
  },
  {
   "cell_type": "markdown",
   "metadata": {},
   "source": [
    "Now setup his earnings history. The regime is in place since 1966. Let's assume this retiree has contributed the maximum in each year between 1976 and 2018 (1976 is the year he turned 18). The YMPE is the yearly maximum pensionable earnings for CPP. It is indexed every year to reflect growth in wages and prices (inflation). The function setearn allows to obtain the years in which the individual theoretically could have started to contribute (either at age 18 or 1966) and the maximum age at which he could contribute (either his current age or if larger the late retirement age of 70). In future applications, one can fill years to zero when the individual has not worked in a given year. "
   ]
  },
  {
   "cell_type": "code",
   "execution_count": 4,
   "metadata": {},
   "outputs": [
    {
     "data": {
      "text/plain": [
       "array([ 8300.,  9300., 10400., 11700., 13100., 14700., 16500., 18500.,\n",
       "       20800., 23400., 25800., 25900., 26500., 27700., 28900., 30500.,\n",
       "       32200., 33400., 34400., 34900., 35400., 35800., 36900., 37400.,\n",
       "       37600., 38300., 39100., 39900., 40500., 41100., 42100., 43700.,\n",
       "       44900., 46300., 47200., 48300., 50100., 51100., 52500., 53600.,\n",
       "       54900., 55300.])"
      ]
     },
     "execution_count": 4,
     "metadata": {},
     "output_type": "execute_result"
    }
   ],
   "source": [
    "dim = cpp.setearn(byear,age);\n",
    "earn = cpp.ympe[np.logical_and(cpp.years>=dim[0], cpp.years<=dim[1])];\n",
    "earn\n",
    "\n"
   ]
  },
  {
   "cell_type": "markdown",
   "metadata": {},
   "source": [
    "The average monthly pensionable earnings or AMPE is the basis for computing CPP benefits. Several steps are involved. \n",
    "\n",
    "* Compute the unadjusted pensionable earnings (UPE) for each year (capped at YMPE and zero if below base amount). \n",
    "* Express UPE as fraction of YMPE for each year. Call this APE.\n",
    "* In the year claiming occurs, compute the average YMPE for the last 5 years (including current year). Multiply each APE by this average YMPE. \n",
    "* Sum those and divide by number of years to get a temporary APE (there is a disability and 2 child reading dropout provision)\n",
    "* There is a general dropout provision that 15% of months can be dropped (rounded up). Rest of canada has increased this in recent years.  \n",
    "* Once all dropouts rights have been computed, The years dropped out are those with the lowest APE.  \n",
    "* There is also an additional provision for those with earnings past age 65: they can increased their dropout 1/1 for each year if their UPE/YMPE for that year is larger than their AMPE. \n",
    "\n",
    "\n",
    "We then call the ampe function from cpp to compute his ampe (in Quebec)"
   ]
  },
  {
   "cell_type": "code",
   "execution_count": 5,
   "metadata": {},
   "outputs": [
    {
     "data": {
      "text/plain": [
       "4536.666666666667"
      ]
     },
     "execution_count": 5,
     "metadata": {},
     "output_type": "execute_result"
    }
   ],
   "source": [
    "ampe = cpp.ampe(byear,year,age,earn,True);\n",
    "ampe\n"
   ]
  },
  {
   "cell_type": "markdown",
   "metadata": {},
   "source": [
    "If from other province, we can see that AMPE would be slightly higher because higher exclusion: "
   ]
  },
  {
   "cell_type": "code",
   "execution_count": 6,
   "metadata": {},
   "outputs": [
    {
     "data": {
      "text/plain": [
       "[4536.666666666667, 4536.666666666667, 1.0]"
      ]
     },
     "execution_count": 6,
     "metadata": {},
     "output_type": "execute_result"
    }
   ],
   "source": [
    "ampe_cpp = cpp.ampe(byear,year,age,earn,False);\n",
    "[ampe,ampe_cpp, ampe_cpp/ampe]"
   ]
  },
  {
   "cell_type": "markdown",
   "metadata": {},
   "source": [
    "Now with the ampe, we can compute the benefit he would obtain if he claimed at age 60"
   ]
  },
  {
   "cell_type": "code",
   "execution_count": 7,
   "metadata": {},
   "outputs": [
    {
     "data": {
      "text/plain": [
       "725.8666666666667"
      ]
     },
     "execution_count": 7,
     "metadata": {},
     "output_type": "execute_result"
    }
   ],
   "source": [
    "ben = cpp.ben(ampe,age,byear)\n",
    "ben\n"
   ]
  },
  {
   "cell_type": "markdown",
   "metadata": {},
   "source": [
    "The number found at https://www.rrq.gouv.qc.ca/fr/programmes/regime_rentes/rente_retraite/Pages/montant_rr.aspx is 725.87$.  \n",
    "\n",
    "We can also investigate what happens if he was to claim at a different age, assuming he does not work and therefore does not contribute more: "
   ]
  },
  {
   "cell_type": "code",
   "execution_count": 8,
   "metadata": {},
   "outputs": [
    {
     "data": {
      "text/plain": [
       "array([[0.64 ],\n",
       "       [0.712],\n",
       "       [0.784],\n",
       "       [0.856],\n",
       "       [0.928],\n",
       "       [1.   ],\n",
       "       [1.084],\n",
       "       [1.168],\n",
       "       [1.252],\n",
       "       [1.336]])"
      ]
     },
     "execution_count": 8,
     "metadata": {},
     "output_type": "execute_result"
    }
   ],
   "source": [
    "benp = np.zeros((10,1));\n",
    "ages = [60, 61, 62, 63, 64, 65, 66, 67 , 68, 69];\n",
    "i = 0\n",
    "for a in ages:\n",
    "    benp[i] = cpp.ben(ampe,a,byear);\n",
    "    i +=1\n",
    "benp/benp[5]"
   ]
  },
  {
   "cell_type": "markdown",
   "metadata": {},
   "source": [
    "We express above benefits as a ratio of the benefit at the normal claiming age (65). We get exactly the same numbers as those in the link above (RRQ). "
   ]
  },
  {
   "cell_type": "markdown",
   "metadata": {},
   "source": [
    "Finally, we can decide to lower the delayed retirement credit (after age 65) to check what happens. We need to modify the drc (here we change it for all cohorts)"
   ]
  },
  {
   "cell_type": "code",
   "execution_count": 9,
   "metadata": {},
   "outputs": [],
   "source": [
    "cpp.drc[:] = cpp.drc[:]*0.5;"
   ]
  },
  {
   "cell_type": "code",
   "execution_count": 10,
   "metadata": {},
   "outputs": [
    {
     "data": {
      "text/plain": [
       "array([[0.64 ],\n",
       "       [0.712],\n",
       "       [0.784],\n",
       "       [0.856],\n",
       "       [0.928],\n",
       "       [1.   ],\n",
       "       [1.042],\n",
       "       [1.084],\n",
       "       [1.126],\n",
       "       [1.168]])"
      ]
     },
     "execution_count": 10,
     "metadata": {},
     "output_type": "execute_result"
    }
   ],
   "source": [
    "benm = np.zeros((10,1));\n",
    "i = 0\n",
    "for a in ages:\n",
    "    benm[i] = cpp.ben(ampe,a,byear);\n",
    "    i +=1\n",
    "benm/benm[5]"
   ]
  },
  {
   "cell_type": "markdown",
   "metadata": {},
   "source": [
    "We can finally plot those. "
   ]
  },
  {
   "cell_type": "code",
   "execution_count": 11,
   "metadata": {},
   "outputs": [
    {
     "data": {
      "image/png": "[encoded data removed]",
      "text/plain": [
       "<matplotlib.figure.Figure at 0x1097e2fd0>"
      ]
     },
     "metadata": {},
     "output_type": "display_data"
    }
   ],
   "source": [
    "%matplotlib inline\n",
    "from matplotlib import pyplot as plt\n",
    "fig, ax = plt.subplots()\n",
    "ax.plot(ages,benp)\n",
    "ax.plot(ages,benm)\n",
    "ax.set(xlabel='claiming age',ylabel='monthly benefit',title='Illustration of Changing the DRC',xticks=ages)\n",
    "ax.legend(['baseline','lower DRC'])\n",
    "ax.grid()\n",
    "plt.show()"
   ]
  },
  {
   "cell_type": "markdown",
   "metadata": {},
   "source": [
    "We can look at how the benefit formula changed across cohorts. To do that, "
   ]
  },
  {
   "cell_type": "code",
   "execution_count": 12,
   "metadata": {},
   "outputs": [
    {
     "data": {
      "text/plain": [
       "array([[ 508.54666667,  608.59333333,  725.86666667],\n",
       "       [ 564.05066667,  681.926     ,  817.246594  ],\n",
       "       [ 620.09866667,  759.29066667,  908.821032  ],\n",
       "       [ 678.28      ,  840.192     ,  999.40853333],\n",
       "       [ 739.532     ,  925.09866667, 1091.84787333],\n",
       "       [ 801.25      , 1012.5       , 1185.48154167],\n",
       "       [ 882.55666667, 1125.55333333, 1297.91258533],\n",
       "       [ 967.98      , 1243.92      , 1412.47373933],\n",
       "       [1057.41833333, 1367.81      , 1529.19629517],\n",
       "       [1153.97      , 1488.52666667, 1648.11208933]])"
      ]
     },
     "execution_count": 12,
     "metadata": {},
     "output_type": "execute_result"
    }
   ],
   "source": [
    "cpp.loadcpp();\n",
    "ben = np.zeros((len(ages),3));\n",
    "i = 0\n",
    "for b in [1938,1948,1958]:\n",
    "    dim = cpp.setearn(b,60);\n",
    "    earn = cpp.ympe[np.logical_and(cpp.years>=dim[0], cpp.years<=dim[1])];\n",
    "    avgearn = np.mean(earn[-5:]);\n",
    "    j = 0\n",
    "    for a in ages:\n",
    "        ampe = cpp.ampe(b,b+a,a,earn,True);\n",
    "        ben[j,i] = cpp.ben(ampe,a,b);\n",
    "        j+=1\n",
    "    i+=1    \n",
    "\n",
    "ben    \n",
    "        "
   ]
  },
  {
   "cell_type": "markdown",
   "metadata": {},
   "source": [
    "Let's now play a bit with contributions. We will take our worker and run him trough the contributions calculator. \n",
    "We have a function called tax which allows to compute worker contributions to CPP. "
   ]
  },
  {
   "cell_type": "code",
   "execution_count": 13,
   "metadata": {},
   "outputs": [
    {
     "data": {
      "text/plain": [
       "array([[ 393.75],\n",
       "       [ 441.  ],\n",
       "       [ 493.5 ],\n",
       "       [ 556.5 ],\n",
       "       [ 619.5 ],\n",
       "       [ 698.25],\n",
       "       [ 782.25],\n",
       "       [ 876.75],\n",
       "       [ 987.  ],\n",
       "       [1107.75],\n",
       "       [1223.25],\n",
       "       [1228.5 ],\n",
       "       [1254.75],\n",
       "       [1312.5 ],\n",
       "       [1370.25],\n",
       "       [1443.75],\n",
       "       [1522.5 ],\n",
       "       [1580.25],\n",
       "       [1627.5 ],\n",
       "       [1653.75],\n",
       "       [1674.75],\n",
       "       [1695.75],\n",
       "       [1753.5 ],\n",
       "       [1779.75],\n",
       "       [1790.25],\n",
       "       [1827.  ],\n",
       "       [1869.  ],\n",
       "       [1911.  ],\n",
       "       [1942.5 ],\n",
       "       [1974.  ],\n",
       "       [2026.5 ],\n",
       "       [2110.5 ],\n",
       "       [2173.5 ],\n",
       "       [2247.  ],\n",
       "       [2294.25],\n",
       "       [2352.  ],\n",
       "       [2446.5 ],\n",
       "       [2499.  ],\n",
       "       [2572.5 ],\n",
       "       [2630.25],\n",
       "       [2698.5 ],\n",
       "       [2719.5 ]])"
      ]
     },
     "execution_count": 13,
     "metadata": {},
     "output_type": "execute_result"
    }
   ],
   "source": [
    "cpp.loadcpp()\n",
    "selfearn = earn;\n",
    "selfearn = np.zeros((len(earn),1));\n",
    "contrib = np.zeros((len(earn),1));\n",
    "yr = dim[0];\n",
    "age = 18;\n",
    "for i in range(0,len(earn)):\n",
    "    contrib[i] = cpp.tax(yr,earn[i],selfearn[i],age,True,True);\n",
    "    yr+=1;\n",
    "    age+=1;\n",
    "contrib"
   ]
  },
  {
   "cell_type": "code",
   "execution_count": 14,
   "metadata": {},
   "outputs": [
    {
     "data": {
      "text/plain": [
       "[41, 2018, 60, 1976]"
      ]
     },
     "execution_count": 14,
     "metadata": {},
     "output_type": "execute_result"
    }
   ],
   "source": [
    "[i,yr,age,dim[0]]"
   ]
  },
  {
   "cell_type": "code",
   "execution_count": null,
   "metadata": {},
   "outputs": [],
   "source": []
  },
  {
   "cell_type": "code",
   "execution_count": null,
   "metadata": {},
   "outputs": [],
   "source": []
  }
 ],
 "metadata": {
  "kernelspec": {
   "display_name": "Python 3",
   "language": "python",
   "name": "python3"
  },
  "language_info": {
   "codemirror_mode": {
    "name": "ipython",
    "version": 3
   },
   "file_extension": ".py",
   "mimetype": "text/x-python",
   "name": "python",
   "nbconvert_exporter": "python",
   "pygments_lexer": "ipython3",
   "version": "3.6.4"
  }
 },
 "nbformat": 4,
 "nbformat_minor": 2
}
