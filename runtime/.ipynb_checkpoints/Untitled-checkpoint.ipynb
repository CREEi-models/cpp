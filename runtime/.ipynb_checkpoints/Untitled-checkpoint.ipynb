{
 "cells": [
  {
   "cell_type": "markdown",
   "metadata": {},
   "source": [
    "# The Effect of PAC: Identification Strategy"
   ]
  },
  {
   "cell_type": "code",
   "execution_count": null,
   "metadata": {},
   "outputs": [],
   "source": [
    "import numpy as np"
   ]
  },
  {
   "cell_type": "markdown",
   "metadata": {},
   "source": [
    "In 2004, PAC introduced. These financial incentives rewarded each procedure relative to 2002 level of surgery. The incentives are given by the following vector"
   ]
  },
  {
   "cell_type": "code",
   "execution_count": 3,
   "metadata": {},
   "outputs": [
    {
     "data": {
      "text/plain": [
       "{'cataract': 1100,\n",
       " 'hip': 10600,\n",
       " 'inpatient': 4200,\n",
       " 'knee': 11000,\n",
       " 'outpatient': 700}"
      ]
     },
     "execution_count": 3,
     "metadata": {},
     "output_type": "execute_result"
    }
   ],
   "source": [
    "pac = {'hip': 10600, 'knee': 11000, 'cataract': 1100, 'outpatient': 700, 'inpatient': 4200}\n",
    "pac"
   ]
  },
  {
   "cell_type": "markdown",
   "metadata": {},
   "source": [
    "These were in effect from 2004 to 2011. Note than outpatient excludes cataract and inpatients excludes hip and knee. "
   ]
  },
  {
   "cell_type": "markdown",
   "metadata": {},
   "source": [
    "## Data"
   ]
  },
  {
   "cell_type": "markdown",
   "metadata": {},
   "source": [
    "We first codify surgeries under pack into one of the categories of PAC (use Ariane's classification in appendix). Also keep surgeries done in larger hospitals. Use some cutoffs based on some exogeneous evaluation of size (number of total surgeries in 1995). "
   ]
  },
  {
   "cell_type": "markdown",
   "metadata": {},
   "source": [
    "I would like to have two stats: average nirru and cost of services (physician billing) per year for each of the surgery categories in PAC. The question I have in mind is what is the incentives above worth relative to the cost of these procedures. I would also like to know what is the variation in average cost per PAC item across hospitals. If such variation exist, it could be exploited since the incentive did not allow for variation across hospitals or severity of cases.  "
   ]
  },
  {
   "cell_type": "markdown",
   "metadata": {},
   "source": [
    "Next, we identify the day prior to surgery where the surgery is likely to have been planned. For this, we will need to proxy service codes that may have been used for an original diagnostic. Nizar Ghali might have something on this in his thesis. One would keep only data from the day of diagnosis to the end of the stay. "
   ]
  },
  {
   "cell_type": "markdown",
   "metadata": {},
   "source": [
    "By year the surgery is planned (the day when scheduled), compute the survival rates (the fraction waiting). Do this for each item in PAC. Do we see anything special over time, especially in 2004. "
   ]
  },
  {
   "cell_type": "markdown",
   "metadata": {},
   "source": [
    "## Model"
   ]
  },
  {
   "cell_type": "markdown",
   "metadata": {},
   "source": [
    "Denote by $y_{i,\\tau}$ the binary variable that indicates whether surgery has been performed for individual $i$ in day $\\tau$ (time here is analysis time with origin 0). The surgery is assumed performed the first day when patient admitted (if admission occurs). Calendar time is defined as $t$ (say 1995, 1996, etc). "
   ]
  },
  {
   "cell_type": "markdown",
   "metadata": {},
   "source": [
    "Denote by $PAC_{i,t}$ the ratio of the incentive above (pac) divided by the hospital level cost of treating one. It is zero prior to the date that PAC starts ($t$). "
   ]
  },
  {
   "cell_type": "code",
   "execution_count": null,
   "metadata": {},
   "outputs": [],
   "source": []
  }
 ],
 "metadata": {
  "kernelspec": {
   "display_name": "Python 3",
   "language": "python",
   "name": "python3"
  },
  "language_info": {
   "codemirror_mode": {
    "name": "ipython",
    "version": 3
   },
   "file_extension": ".py",
   "mimetype": "text/x-python",
   "name": "python",
   "nbconvert_exporter": "python",
   "pygments_lexer": "ipython3",
   "version": "3.6.4"
  }
 },
 "nbformat": 4,
 "nbformat_minor": 2
}
