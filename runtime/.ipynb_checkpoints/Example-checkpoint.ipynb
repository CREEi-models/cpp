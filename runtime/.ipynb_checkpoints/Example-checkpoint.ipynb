{
 "cells": [
  {
   "cell_type": "markdown",
   "metadata": {},
   "source": [
    "# Calling CPP Fortran Module from Python"
   ]
  },
  {
   "cell_type": "markdown",
   "metadata": {},
   "source": [
    "The objective of this notebook is to show how to use Python to interact with the CPP module (in Fortran). This could serve as a basis for doing something similar with other models. \n",
    "\n",
    "\n",
    "We use f2py to pre-compile our fortran cpp module (available at https://github.com/CEDIA-models/cpp). We can then use the module (all its functions and global variables) interactively from Python. Here is an example. "
   ]
  },
  {
   "cell_type": "code",
   "execution_count": 1,
   "metadata": {},
   "outputs": [],
   "source": [
    "from cpp import cpp"
   ]
  },
  {
   "cell_type": "markdown",
   "metadata": {},
   "source": [
    "Now load the parameters from cpp"
   ]
  },
  {
   "cell_type": "code",
   "execution_count": 2,
   "metadata": {},
   "outputs": [],
   "source": [
    "cpp.loadcpp();"
   ]
  },
  {
   "cell_type": "markdown",
   "metadata": {},
   "source": [
    "Now let's create an individual age 60 who is considering retiring. We need to input the birth year and age at which benefits are claimed. The year for now is simply birth year plus age but in future will allow for adjustments to benefits. "
   ]
  },
  {
   "cell_type": "code",
   "execution_count": 3,
   "metadata": {},
   "outputs": [],
   "source": [
    "import numpy as np\n",
    "byear = 1958;\n",
    "year = 2018;\n",
    "age = 60;"
   ]
  },
  {
   "cell_type": "markdown",
   "metadata": {},
   "source": [
    "Now setup his earnings history. The regime is in place since 1966. Let's assume this retiree has contributed the maximum in each year between 1976 and 2018 (1976 is the year he turned 18). The YMPE is the yearly maximum pensionable earnings for CPP. It is indexed every year to reflect growth in wages and prices (inflation). The function setearn allows to obtain the years in which the individual theoretically could have started to contribute (either at age 18 or 1966) and the maximum age at which he could contribute (either his current age or if larger the late retirement age of 70). In future applications, one can fill years to zero when the individual has not worked in a given year. "
   ]
  },
  {
   "cell_type": "code",
   "execution_count": 4,
   "metadata": {},
   "outputs": [
    {
     "data": {
      "text/plain": [
       "array([ 8300.,  9300., 10400., 11700., 13100., 14700., 16500., 18500.,\n",
       "       20800., 23400., 25800., 25900., 26500., 27700., 28900., 30500.,\n",
       "       32200., 33400., 34400., 34900., 35400., 35800., 36900., 37400.,\n",
       "       37600., 38300., 39100., 39900., 40500., 41100., 42100., 43700.,\n",
       "       44900., 46300., 47200., 48300., 50100., 51100., 52500., 53600.,\n",
       "       54900., 55300.])"
      ]
     },
     "execution_count": 4,
     "metadata": {},
     "output_type": "execute_result"
    }
   ],
   "source": [
    "dim = cpp.setearn(byear,age);\n",
    "earn = cpp.ympe[np.logical_and(cpp.years>=dim[0], cpp.years<=dim[1])];\n",
    "earn\n",
    "\n"
   ]
  },
  {
   "cell_type": "markdown",
   "metadata": {},
   "source": [
    "The average pensionable earnings or APE is the basis for computing CPP benefits. Several steps are involved. \n",
    "\n",
    "* Compute the unadjusted pensionable earnings (UPE) for each year (capped at YMPE and zero if below base amount). \n",
    "* Express UPE as fraction of YMPE for each year. \n",
    "* In the year claiming occurs, compute the average YMPE for the last 5 years. Multiply each UPE (as ratio of YMPE) by this average YMPE. \n",
    "* Sum those and divide by number of years to get a temporary APE\n",
    "* Need to deal with disability, child rearing drop out provisions and general dropout. \n",
    "\n",
    "\n",
    "We then call the ape function from cpp to compute his ape (aape refers to the average annual pensionable earnings)"
   ]
  },
  {
   "cell_type": "code",
   "execution_count": 5,
   "metadata": {},
   "outputs": [
    {
     "data": {
      "text/plain": [
       "5102.27027027027"
      ]
     },
     "execution_count": 5,
     "metadata": {},
     "output_type": "execute_result"
    }
   ],
   "source": [
    "ampe = cpp.ampe(byear,year,age,earn,True);\n",
    "ampe\n"
   ]
  },
  {
   "cell_type": "markdown",
   "metadata": {},
   "source": [
    "Now with the ape, we can compute the benefit he would obtain if he claimed at age 60"
   ]
  },
  {
   "cell_type": "code",
   "execution_count": 6,
   "metadata": {},
   "outputs": [
    {
     "data": {
      "text/plain": [
       "816.3632432432432"
      ]
     },
     "execution_count": 6,
     "metadata": {},
     "output_type": "execute_result"
    }
   ],
   "source": [
    "ben = cpp.ben(ampe,age,byear)\n",
    "ben\n"
   ]
  },
  {
   "cell_type": "markdown",
   "metadata": {},
   "source": [
    "The number found at https://www.rrq.gouv.qc.ca/fr/programmes/regime_rentes/rente_retraite/Pages/montant_rr.aspx is 725.87$ which is very close. We can also investigate what happens if he was to claim at a different age, assuming he does not work and therefore does not contribute more: "
   ]
  },
  {
   "cell_type": "code",
   "execution_count": 7,
   "metadata": {},
   "outputs": [
    {
     "data": {
      "text/plain": [
       "array([[0.64 ],\n",
       "       [0.712],\n",
       "       [0.784],\n",
       "       [0.856],\n",
       "       [0.928],\n",
       "       [1.   ],\n",
       "       [1.084],\n",
       "       [1.168],\n",
       "       [1.252],\n",
       "       [1.336]])"
      ]
     },
     "execution_count": 7,
     "metadata": {},
     "output_type": "execute_result"
    }
   ],
   "source": [
    "benp = np.zeros((10,1));\n",
    "ages = [60, 61, 62, 63, 64, 65, 66, 67 , 68, 69];\n",
    "i = 0\n",
    "for a in ages:\n",
    "    benp[i] = cpp.ben(ampe,a,byear);\n",
    "    i +=1\n",
    "benp/benp[5]"
   ]
  },
  {
   "cell_type": "markdown",
   "metadata": {},
   "source": [
    "We get slightly different numbers from the early claiming, but are spot on for late claiming (in terms of adjustment). To be investigated. "
   ]
  },
  {
   "cell_type": "markdown",
   "metadata": {},
   "source": [
    "Finally, we can decide to increate the delayed retirement credit (after age 65) to check what happens. We need to modify the drc (here we change it for all cohorts)"
   ]
  },
  {
   "cell_type": "code",
   "execution_count": 8,
   "metadata": {},
   "outputs": [],
   "source": [
    "cpp.drc[:] = cpp.drc[:]*0.5;"
   ]
  },
  {
   "cell_type": "code",
   "execution_count": 9,
   "metadata": {},
   "outputs": [
    {
     "data": {
      "text/plain": [
       "array([[0.64 ],\n",
       "       [0.712],\n",
       "       [0.784],\n",
       "       [0.856],\n",
       "       [0.928],\n",
       "       [1.   ],\n",
       "       [1.042],\n",
       "       [1.084],\n",
       "       [1.126],\n",
       "       [1.168]])"
      ]
     },
     "execution_count": 9,
     "metadata": {},
     "output_type": "execute_result"
    }
   ],
   "source": [
    "benm = np.zeros((10,1));\n",
    "i = 0\n",
    "for a in ages:\n",
    "    benm[i] = cpp.ben(ampe,a,byear);\n",
    "    i +=1\n",
    "benm/benm[5]"
   ]
  },
  {
   "cell_type": "markdown",
   "metadata": {},
   "source": [
    "We can finally plot those. "
   ]
  },
  {
   "cell_type": "code",
   "execution_count": 10,
   "metadata": {},
   "outputs": [
    {
     "data": {
      "image/png": "[encoded data removed]",
      "text/plain": [
       "<matplotlib.figure.Figure at 0x109287f60>"
      ]
     },
     "metadata": {},
     "output_type": "display_data"
    }
   ],
   "source": [
    "%matplotlib inline\n",
    "from matplotlib import pyplot as plt\n",
    "fig, ax = plt.subplots()\n",
    "ax.plot(ages,benp)\n",
    "ax.plot(ages,benm)\n",
    "ax.set(xlabel='claiming age',ylabel='monthly benefit',title='Illustration of Changing the DRC',xticks=ages)\n",
    "ax.legend(['baseline','lower DRC'])\n",
    "ax.grid()\n",
    "plt.show()"
   ]
  },
  {
   "cell_type": "code",
   "execution_count": 11,
   "metadata": {},
   "outputs": [
    {
     "data": {
      "text/plain": [
       "778.3783783783784"
      ]
     },
     "execution_count": 11,
     "metadata": {},
     "output_type": "execute_result"
    }
   ],
   "source": [
    "cpp.loadcpp();\n",
    "cpp.ympe[:] = 50.0e3;\n",
    "earn[:] = 50.0e3;\n",
    "ampe = cpp.ampe(byear,year,age,earn,True);\n",
    "ben = cpp.ben(ampe,age,byear);\n",
    "ben"
   ]
  },
  {
   "cell_type": "code",
   "execution_count": 12,
   "metadata": {},
   "outputs": [
    {
     "data": {
      "text/plain": [
       "array([1976, 2017,   53,   53], dtype=int32)"
      ]
     },
     "execution_count": 12,
     "metadata": {},
     "output_type": "execute_result"
    }
   ],
   "source": [
    "dim = cpp.setearn(byear,age);\n",
    "dim\n"
   ]
  },
  {
   "cell_type": "code",
   "execution_count": 13,
   "metadata": {},
   "outputs": [
    {
     "data": {
      "text/plain": [
       "[4901.9607843137255, 4864.864864864865]"
      ]
     },
     "execution_count": 13,
     "metadata": {},
     "output_type": "execute_result"
    }
   ],
   "source": [
    "[42*50e3/(12*42*(1-0.15)),ampe]"
   ]
  },
  {
   "cell_type": "code",
   "execution_count": 15,
   "metadata": {},
   "outputs": [
    {
     "ename": "NameError",
     "evalue": "name 'mean' is not defined",
     "output_type": "error",
     "traceback": [
      "\u001b[0;31m---------------------------------------------------------------------------\u001b[0m",
      "\u001b[0;31mNameError\u001b[0m                                 Traceback (most recent call last)",
      "\u001b[0;32m<ipython-input-15-b4ff47a7d609>\u001b[0m in \u001b[0;36m<module>\u001b[0;34m()\u001b[0m\n\u001b[1;32m      1\u001b[0m \u001b[0mx\u001b[0m \u001b[0;34m=\u001b[0m \u001b[0;34m[\u001b[0m\u001b[0;36m52500\u001b[0m\u001b[0;34m,\u001b[0m\u001b[0;36m53600\u001b[0m\u001b[0;34m,\u001b[0m\u001b[0;36m54900\u001b[0m\u001b[0;34m,\u001b[0m\u001b[0;36m55300\u001b[0m\u001b[0;34m,\u001b[0m\u001b[0;36m55900\u001b[0m\u001b[0;34m]\u001b[0m\u001b[0;34m\u001b[0m\u001b[0m\n\u001b[0;32m----> 2\u001b[0;31m \u001b[0mmean\u001b[0m\u001b[0;34m(\u001b[0m\u001b[0mx\u001b[0m\u001b[0;34m)\u001b[0m\u001b[0;34m\u001b[0m\u001b[0m\n\u001b[0m",
      "\u001b[0;31mNameError\u001b[0m: name 'mean' is not defined"
     ]
    }
   ],
   "source": [
    "x = [52500,53600,54900,55300,55900]\n",
    "np.mean(x)"
   ]
  },
  {
   "cell_type": "code",
   "execution_count": null,
   "metadata": {},
   "outputs": [],
   "source": []
  }
 ],
 "metadata": {
  "kernelspec": {
   "display_name": "Python 3",
   "language": "python",
   "name": "python3"
  },
  "language_info": {
   "codemirror_mode": {
    "name": "ipython",
    "version": 3
   },
   "file_extension": ".py",
   "mimetype": "text/x-python",
   "name": "python",
   "nbconvert_exporter": "python",
   "pygments_lexer": "ipython3",
   "version": "3.6.4"
  }
 },
 "nbformat": 4,
 "nbformat_minor": 2
}
