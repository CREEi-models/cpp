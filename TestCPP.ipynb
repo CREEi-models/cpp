{
 "cells": [
  {
   "cell_type": "code",
   "execution_count": 15,
   "metadata": {},
   "outputs": [],
   "source": [
    "from calculators import cpp\n"
   ]
  },
  {
   "cell_type": "code",
   "execution_count": 16,
   "metadata": {},
   "outputs": [],
   "source": [
    "qpp = cpp.rules(qpp=True)\n",
    "pc = cpp.account(1958,rules=qpp)\n"
   ]
  },
  {
   "cell_type": "code",
   "execution_count": 17,
   "metadata": {},
   "outputs": [],
   "source": [
    "claim = 65\n",
    "for a in range(18,85):\n",
    "    yr = pc.gYear(a)\n",
    "    if a<claim:\n",
    "        pc.MakeContrib(yr,earn=qpp.ympe(yr))\n",
    "    if a==claim:\n",
    "        pc.ClaimCPP(yr)\n",
    "        pc.PayBenefit(yr)\n",
    "    if a>=claim:\n",
    "        pc.PayBenefit(yr)"
   ]
  },
  {
   "cell_type": "code",
   "execution_count": 18,
   "metadata": {},
   "outputs": [
    {
     "data": {
      "text/plain": [
       "[(1976, 435.75, 0.0, False),\n",
       " (1977, 488.25, 0.0, False),\n",
       " (1978, 546.0, 0.0, False),\n",
       " (1979, 614.25, 0.0, False),\n",
       " (1980, 687.75, 0.0, False),\n",
       " (1981, 771.75, 0.0, False),\n",
       " (1982, 866.25, 0.0, False),\n",
       " (1983, 971.25, 0.0, False),\n",
       " (1984, 1092.0, 0.0, False),\n",
       " (1985, 1228.5, 0.0, False),\n",
       " (1986, 1354.5, 0.0, False),\n",
       " (1987, 1359.75, 0.0, False),\n",
       " (1988, 1391.25, 0.0, False),\n",
       " (1989, 1454.25, 0.0, False),\n",
       " (1990, 1517.25, 0.0, False),\n",
       " (1991, 1601.25, 0.0, False),\n",
       " (1992, 1690.5, 0.0, False),\n",
       " (1993, 1753.5, 0.0, False),\n",
       " (1994, 1806.0, 0.0, False),\n",
       " (1995, 1832.25, 0.0, False),\n",
       " (1996, 1858.5, 0.0, False),\n",
       " (1997, 1879.5, 0.0, False),\n",
       " (1998, 1937.25, 0.0, False),\n",
       " (1999, 1963.5, 0.0, False),\n",
       " (2000, 1974.0, 0.0, False),\n",
       " (2001, 2010.75, 0.0, False),\n",
       " (2002, 2052.75, 0.0, False),\n",
       " (2003, 2094.75, 0.0, False),\n",
       " (2004, 2126.25, 0.0, False),\n",
       " (2005, 2157.75, 0.0, False),\n",
       " (2006, 2210.25, 0.0, False),\n",
       " (2007, 2294.25, 0.0, False),\n",
       " (2008, 2357.25, 0.0, False),\n",
       " (2009, 2430.75, 0.0, False),\n",
       " (2010, 2478.0, 0.0, False),\n",
       " (2011, 2535.75, 0.0, False),\n",
       " (2012, 2630.25, 0.0, False),\n",
       " (2013, 2682.75, 0.0, False),\n",
       " (2014, 2756.25, 0.0, False),\n",
       " (2015, 2814.0, 0.0, False),\n",
       " (2016, 2882.25, 0.0, False),\n",
       " (2017, 2903.25, 0.0, False),\n",
       " (2018, 2934.75, 0.0, False),\n",
       " (2019, 2928.2599499999997, 0.0, False),\n",
       " (2020, 2957.5423499999997, 0.0, False),\n",
       " (2021, 2987.1177000000002, 0.0, False),\n",
       " (2022, 3016.988625, 0.0, False),\n",
       " (2023, 0.0, 1155.844503125, False),\n",
       " (2023, 0.0, 1155.844503125, False),\n",
       " (2024, 0.0, 1155.844503125, False),\n",
       " (2025, 0.0, 1155.844503125, False),\n",
       " (2026, 0.0, 1155.844503125, False),\n",
       " (2027, 0.0, 1155.844503125, False),\n",
       " (2028, 0.0, 1155.844503125, False),\n",
       " (2029, 0.0, 1155.844503125, False),\n",
       " (2030, 0.0, 1155.844503125, False),\n",
       " (2031, 0.0, 1155.844503125, False),\n",
       " (2032, 0.0, 1155.844503125, False),\n",
       " (2033, 0.0, 1155.844503125, False),\n",
       " (2034, 0.0, 1155.844503125, False),\n",
       " (2035, 0.0, 1155.844503125, False),\n",
       " (2036, 0.0, 1155.844503125, False),\n",
       " (2037, 0.0, 1155.844503125, False),\n",
       " (2038, 0.0, 1155.844503125, False),\n",
       " (2039, 0.0, 1155.844503125, False),\n",
       " (2040, 0.0, 1155.844503125, False),\n",
       " (2041, 0.0, 1155.844503125, False),\n",
       " (2042, 0.0, 1155.844503125, False)]"
      ]
     },
     "execution_count": 18,
     "metadata": {},
     "output_type": "execute_result"
    }
   ],
   "source": [
    "[(pc.history[p].year,pc.history[p].contrib,pc.history[p].ownben,pc.history[p].kids) for p in range(pc.nrecord)]"
   ]
  },
  {
   "cell_type": "code",
   "execution_count": null,
   "metadata": {},
   "outputs": [],
   "source": []
  }
 ],
 "metadata": {
  "kernelspec": {
   "display_name": "Python 3",
   "language": "python",
   "name": "python3"
  },
  "language_info": {
   "codemirror_mode": {
    "name": "ipython",
    "version": 3
   },
   "file_extension": ".py",
   "mimetype": "text/x-python",
   "name": "python",
   "nbconvert_exporter": "python",
   "pygments_lexer": "ipython3",
   "version": "3.6.4"
  }
 },
 "nbformat": 4,
 "nbformat_minor": 2
}
